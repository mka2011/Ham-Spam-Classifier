{
 "cells": [
  {
   "cell_type": "code",
   "execution_count": 65,
   "metadata": {},
   "outputs": [],
   "source": [
    "import pandas as pd\n",
    "import numpy as np\n",
    "import re\n",
    "\n",
    "\"\"\"Importing dataset and randomising\"\"\"\n",
    "dataset = pd.read_csv('messages', sep='\\t', header=None, names=['Class', 'SMS'])\n",
    "dataset = dataset.sample(frac=1)\n",
    "\n",
    "\"\"\"Divide Dataset\"\"\"\n",
    "def divideTable(dataset):\n",
    "    return dataset.iloc[:,1],dataset.iloc[:,0]\n",
    "\n",
    "\"\"\"Split function\"\"\"\n",
    "def split(dataset,trainSize):\n",
    "    return dataset.iloc[:trainSize],dataset.iloc[trainSize:]\n",
    "\n",
    "\"\"\"Removing Punctuations and making letters lowercase\"\"\"\n",
    "def remPuncAndLower(messages):\n",
    "    messages = messages.str.replace('\\W', ' ')\n",
    "    messages = messages.str.lower()\n",
    "    return messages\n",
    "\n",
    "\"\"\"Splitting the messages and making a set of unigrams\"\"\"\n",
    "def makeUnigrams(messages):\n",
    "    messages = messages.str.split()\n",
    "    unigramSet = set()\n",
    "    for i in messages:\n",
    "        for word in i:\n",
    "            unigramSet.add(word)\n",
    "    unigramList = list(set(list(unigramSet)))\n",
    "    return messages, unigramList\n",
    "\n",
    "\"\"\"Calculating frequencies of each unigram\"\"\"\n",
    "def makeFreqUni(unigramList,messages,trainSize):\n",
    "    freqUnigram = dict()\n",
    "    for i in range(len(unigramList)):\n",
    "        freqUnigram[unigramList[i]] = ([0]*trainSize)\n",
    "    \n",
    "    for i in range(len(messages)):\n",
    "        msgList = messages.iloc[i]\n",
    "        for j in msgList:\n",
    "            freqUnigram[j][i] += 1\n",
    "\n",
    "    return pd.DataFrame(freqUnigram)\n",
    "\n",
    "\"\"\"Calculating conditional Probabilities\"\"\"\n",
    "def calcProb(data,unigramList):\n",
    "    condProb = dict()\n",
    "    for i in unigramList:\n",
    "        condProb[i] = 0\n",
    "    \n",
    "    nosLabels = data.shape[0]\n",
    "    j = 2\n",
    "    for i in unigramList:\n",
    "        nosSuccess = data.iloc[:,j].sum()\n",
    "        condProb[i] = nosSuccess/nosLabels\n",
    "        j += 1\n",
    "    \n",
    "    return condProb\n",
    "    \n",
    "\n",
    "\"\"\"Classifying test message\"\"\"\n",
    "def classify(testMsg,probSpam,probHam,probCondSpam,probCondHam):\n",
    "    testMsg = re.sub('\\W', ' ', testMsg)\n",
    "    testMsg = testMsg.lower().split()\n",
    "    \n",
    "    probSpam = probSpam\n",
    "    probHam = probHam\n",
    "    \n",
    "    for word in testMsg:\n",
    "        if word in condProbSpam:\n",
    "            probSpam *= condProbSpam[word]\n",
    "        if word in condProbHam:\n",
    "            probHam *= condProbHam[word]\n",
    "    \n",
    "    if probSpam > probHam:\n",
    "        return 'spam'\n",
    "    else:\n",
    "        return 'ham'"
   ]
  },
  {
   "cell_type": "code",
   "execution_count": 66,
   "metadata": {},
   "outputs": [],
   "source": [
    "\"\"\"Splitting into training and test set\"\"\"\n",
    "trainSize = int(0.8*dataset.shape[0])\n",
    "testSize = dataset.shape[0] - trainSize\n",
    "x,y = divideTable(dataset)\n",
    "x_train, x_test = split(x,trainSize)\n",
    "y_train, y_test = split(y,trainSize)\n",
    "\n",
    "\"\"\"Cleaning training set\"\"\"\n",
    "x_train = remPuncAndLower(x_train)\n",
    "x_train, unigramList = makeUnigrams(x_train)\n",
    "\n",
    "\"\"\"Creating dataset of frequency of each unigram\"\"\"\n",
    "x_train = x_train.reset_index(drop=True)\n",
    "y_train = y_train.reset_index(drop=True)\n",
    "freqUnigram = makeFreqUni(unigramList,x_train,trainSize)"
   ]
  },
  {
   "cell_type": "code",
   "execution_count": 67,
   "metadata": {},
   "outputs": [],
   "source": [
    "freqUnigram = np.array(freqUnigram)\n",
    "freqUnigram[:,:] = 1*(freqUnigram[:,:] >= 1)\n",
    "freqUnigram = pd.DataFrame(freqUnigram)"
   ]
  },
  {
   "cell_type": "code",
   "execution_count": 68,
   "metadata": {},
   "outputs": [],
   "source": [
    "\"\"\"Re-Joining dataset to unigram\"\"\"\n",
    "x_train = x_train.reset_index(drop = True)\n",
    "y_train = y_train.reset_index(drop = True)\n",
    "freqUnigram = pd.concat([y_train,x_train,freqUnigram],axis=1)\n",
    "\n",
    "\"\"\"Splitting it into spam and ham set\"\"\"\n",
    "spam = freqUnigram[freqUnigram['Class'] == 'spam']\n",
    "ham = freqUnigram[freqUnigram['Class'] == 'ham']"
   ]
  },
  {
   "cell_type": "code",
   "execution_count": 69,
   "metadata": {},
   "outputs": [],
   "source": [
    "\"\"\"Calculating vals\"\"\"\n",
    "probSpam = len(spam)/len(freqUnigram)\n",
    "probHam = len(ham)/len(freqUnigram)\n",
    "\n",
    "spam = spam.reset_index(drop = True)\n",
    "ham = ham.reset_index(drop = True)\n",
    "condProbSpam = calcProb(spam,unigramList)\n",
    "condProbHam = calcProb(ham,unigramList)\n"
   ]
  },
  {
   "cell_type": "code",
   "execution_count": 70,
   "metadata": {},
   "outputs": [],
   "source": [
    "y_pred = list()\n",
    "for i in range(len(x_test)):\n",
    "    y_pred.append(classify(x_test.iloc[i],probSpam,probHam,condProbSpam,condProbHam))"
   ]
  },
  {
   "cell_type": "code",
   "execution_count": 71,
   "metadata": {},
   "outputs": [
    {
     "name": "stdout",
     "output_type": "stream",
     "text": [
      "The accuracy of the model is :  95.02712477396021 %\n"
     ]
    }
   ],
   "source": [
    "accuracy = 0\n",
    "for i in range(len(y_pred)):\n",
    "    if y_pred[i] == y_test.iloc[i]:\n",
    "        accuracy += 1\n",
    "print(\"The accuracy of the model is : \",accuracy/testSize * 100,\"%\")"
   ]
  },
  {
   "cell_type": "code",
   "execution_count": null,
   "metadata": {},
   "outputs": [],
   "source": []
  }
 ],
 "metadata": {
  "kernelspec": {
   "display_name": "Python 3",
   "language": "python",
   "name": "python3"
  },
  "language_info": {
   "codemirror_mode": {
    "name": "ipython",
    "version": 3
   },
   "file_extension": ".py",
   "mimetype": "text/x-python",
   "name": "python",
   "nbconvert_exporter": "python",
   "pygments_lexer": "ipython3",
   "version": "3.7.6"
  }
 },
 "nbformat": 4,
 "nbformat_minor": 4
}
